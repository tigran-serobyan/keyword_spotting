{
  "nbformat": 4,
  "nbformat_minor": 0,
  "metadata": {
    "colab": {
      "provenance": [],
      "authorship_tag": "ABX9TyOeL4Q55s0IF8MLYlgKnDmb",
      "include_colab_link": true
    },
    "kernelspec": {
      "name": "python3",
      "display_name": "Python 3"
    },
    "language_info": {
      "name": "python"
    }
  },
  "cells": [
    {
      "cell_type": "markdown",
      "metadata": {
        "id": "view-in-github",
        "colab_type": "text"
      },
      "source": [
        "<a href=\"https://colab.research.google.com/github/tigran-serobyan/keyword_spotting/blob/main/Keyword_spotting.ipynb\" target=\"_parent\"><img src=\"https://colab.research.google.com/assets/colab-badge.svg\" alt=\"Open In Colab\"/></a>"
      ]
    },
    {
      "cell_type": "markdown",
      "source": [
        "# Keyword spotting"
      ],
      "metadata": {
        "id": "Lpf6SZgwMkEL"
      }
    },
    {
      "cell_type": "markdown",
      "source": [
        "## Cloning GitHub repository"
      ],
      "metadata": {
        "id": "IrXiLkcaMteg"
      }
    },
    {
      "cell_type": "code",
      "execution_count": 1,
      "metadata": {
        "colab": {
          "base_uri": "https://localhost:8080/"
        },
        "id": "QIZU1rqEIeLk",
        "outputId": "f4b8a7ad-bbe6-4c92-92aa-aeccd82fa876"
      },
      "outputs": [
        {
          "output_type": "stream",
          "name": "stdout",
          "text": [
            "Cloning into 'keyword_spotting'...\n",
            "remote: Enumerating objects: 29, done.\u001b[K\n",
            "remote: Counting objects: 100% (29/29), done.\u001b[K\n",
            "remote: Compressing objects: 100% (20/20), done.\u001b[K\n",
            "remote: Total 29 (delta 5), reused 0 (delta 0), pack-reused 0\u001b[K\n",
            "Unpacking objects: 100% (29/29), done.\n"
          ]
        }
      ],
      "source": [
        "! git clone https://github.com/tigran-serobyan/keyword_spotting.git"
      ]
    },
    {
      "cell_type": "markdown",
      "source": [
        "## Downloading data"
      ],
      "metadata": {
        "id": "ssoUibN-MucK"
      }
    },
    {
      "cell_type": "code",
      "source": [
        "!wget http://download.tensorflow.org/data/speech_commands_v0.02.tar.gz\n",
        "!mkdir ./data\n",
        "!tar -xf ./speech_commands_v0.02.tar.gz -C ./data"
      ],
      "metadata": {
        "colab": {
          "base_uri": "https://localhost:8080/"
        },
        "id": "x9pTTFEBKm-W",
        "outputId": "01a7c0ad-adbf-4c38-917b-c23cdcc12ead"
      },
      "execution_count": 2,
      "outputs": [
        {
          "output_type": "stream",
          "name": "stdout",
          "text": [
            "--2022-12-12 12:58:44--  http://download.tensorflow.org/data/speech_commands_v0.02.tar.gz\n",
            "Resolving download.tensorflow.org (download.tensorflow.org)... 142.251.2.128, 2607:f8b0:4023:c0d::80\n",
            "Connecting to download.tensorflow.org (download.tensorflow.org)|142.251.2.128|:80... connected.\n",
            "HTTP request sent, awaiting response... 200 OK\n",
            "Length: 2428923189 (2.3G) [application/gzip]\n",
            "Saving to: ‘speech_commands_v0.02.tar.gz’\n",
            "\n",
            "speech_commands_v0. 100%[===================>]   2.26G   117MB/s    in 25s     \n",
            "\n",
            "2022-12-12 12:59:10 (92.2 MB/s) - ‘speech_commands_v0.02.tar.gz’ saved [2428923189/2428923189]\n",
            "\n"
          ]
        }
      ]
    },
    {
      "cell_type": "markdown",
      "source": [
        "## Importing libraries"
      ],
      "metadata": {
        "id": "leBZUfKFMzW1"
      }
    },
    {
      "cell_type": "code",
      "source": [
        "import numpy as np\n",
        "import matplotlib.pyplot as plt\n",
        "\n",
        "from keyword_spotting.data_loader import *\n",
        "from keyword_spotting.data_processing import *"
      ],
      "metadata": {
        "id": "nZk8mubXIpNr"
      },
      "execution_count": null,
      "outputs": []
    },
    {
      "cell_type": "markdown",
      "source": [
        "## Loading Data"
      ],
      "metadata": {
        "id": "N812RUlCM92B"
      }
    },
    {
      "cell_type": "code",
      "source": [
        "data = load_data()\n",
        "print(data)"
      ],
      "metadata": {
        "id": "-OXmsX4IJOlo"
      },
      "execution_count": null,
      "outputs": []
    },
    {
      "cell_type": "markdown",
      "source": [
        "### Processing data"
      ],
      "metadata": {
        "id": "RuYEQGeNNBer"
      }
    },
    {
      "cell_type": "code",
      "source": [
        "processed_data = []\n",
        "for i in range(data.shape[0]):\n",
        "  #process data"
      ],
      "metadata": {
        "id": "gSZQu_N1L068"
      },
      "execution_count": 41,
      "outputs": []
    },
    {
      "cell_type": "code",
      "source": [
        "data = np.array(processed_data)"
      ],
      "metadata": {
        "id": "YGm0rsqhNZmD"
      },
      "execution_count": 53,
      "outputs": []
    },
    {
      "cell_type": "markdown",
      "source": [
        "### Show data"
      ],
      "metadata": {
        "id": "jOL7ubcFUQcq"
      }
    },
    {
      "cell_type": "code",
      "source": [
        "plt.matshow(data[0], cmap='viridis', origin='lower')\n",
        "plt.show()"
      ],
      "metadata": {
        "id": "hLwrSud6UTH6"
      },
      "execution_count": null,
      "outputs": []
    },
    {
      "cell_type": "markdown",
      "source": [
        "### Spliting data"
      ],
      "metadata": {
        "id": "zTimnZ_ONpdk"
      }
    },
    {
      "cell_type": "code",
      "source": [
        "np.random.shuffle(data)\n",
        "split = int(len(data)*0.7)\n",
        "x_train = data[:split]\n",
        "x_test = data[split:]"
      ],
      "metadata": {
        "id": "JDDmkZDBNsmm"
      },
      "execution_count": 56,
      "outputs": []
    }
  ]
}