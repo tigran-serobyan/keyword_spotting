{
  "nbformat": 4,
  "nbformat_minor": 0,
  "metadata": {
    "colab": {
      "provenance": [],
      "authorship_tag": "ABX9TyPzGmPdT/YmchhEF8HtkTRU",
      "include_colab_link": true
    },
    "kernelspec": {
      "name": "python3",
      "display_name": "Python 3"
    },
    "language_info": {
      "name": "python"
    }
  },
  "cells": [
    {
      "cell_type": "markdown",
      "metadata": {
        "id": "view-in-github",
        "colab_type": "text"
      },
      "source": [
        "<a href=\"https://colab.research.google.com/github/tigran-serobyan/keyword_spotting/blob/main/Keyword_spotting.ipynb\" target=\"_parent\"><img src=\"https://colab.research.google.com/assets/colab-badge.svg\" alt=\"Open In Colab\"/></a>"
      ]
    },
    {
      "cell_type": "markdown",
      "source": [
        "# Keyword spotting"
      ],
      "metadata": {
        "id": "Lpf6SZgwMkEL"
      }
    },
    {
      "cell_type": "markdown",
      "source": [
        "## Cloning GitHub repository"
      ],
      "metadata": {
        "id": "IrXiLkcaMteg"
      }
    },
    {
      "cell_type": "code",
      "execution_count": 1,
      "metadata": {
        "colab": {
          "base_uri": "https://localhost:8080/"
        },
        "id": "QIZU1rqEIeLk",
        "outputId": "8eb3afde-3912-400e-f908-12229c534bd2"
      },
      "outputs": [
        {
          "output_type": "stream",
          "name": "stdout",
          "text": [
            "Cloning into 'keyword_spotting'...\n",
            "remote: Enumerating objects: 69, done.\u001b[K\n",
            "remote: Counting objects: 100% (69/69), done.\u001b[K\n",
            "remote: Compressing objects: 100% (55/55), done.\u001b[K\n",
            "remote: Total 69 (delta 20), reused 10 (delta 2), pack-reused 0\u001b[K\n",
            "Unpacking objects: 100% (69/69), done.\n"
          ]
        }
      ],
      "source": [
        "! git clone https://github.com/tigran-serobyan/keyword_spotting.git"
      ]
    },
    {
      "cell_type": "markdown",
      "source": [
        "## Downloading data"
      ],
      "metadata": {
        "id": "ssoUibN-MucK"
      }
    },
    {
      "cell_type": "code",
      "source": [
        "!wget http://download.tensorflow.org/data/speech_commands_v0.02.tar.gz\n",
        "!mkdir ./data\n",
        "!tar -xf ./speech_commands_v0.02.tar.gz -C ./data"
      ],
      "metadata": {
        "colab": {
          "base_uri": "https://localhost:8080/"
        },
        "id": "x9pTTFEBKm-W",
        "outputId": "7d3b5438-b04e-419a-f778-3258497924a8"
      },
      "execution_count": 2,
      "outputs": [
        {
          "output_type": "stream",
          "name": "stdout",
          "text": [
            "--2022-12-22 11:40:44--  http://download.tensorflow.org/data/speech_commands_v0.02.tar.gz\n",
            "Resolving download.tensorflow.org (download.tensorflow.org)... 173.194.192.128, 2607:f8b0:4001:c0e::80\n",
            "Connecting to download.tensorflow.org (download.tensorflow.org)|173.194.192.128|:80... connected.\n",
            "HTTP request sent, awaiting response... 200 OK\n",
            "Length: 2428923189 (2.3G) [application/gzip]\n",
            "Saving to: ‘speech_commands_v0.02.tar.gz’\n",
            "\n",
            "speech_commands_v0. 100%[===================>]   2.26G   125MB/s    in 17s     \n",
            "\n",
            "2022-12-22 11:41:01 (137 MB/s) - ‘speech_commands_v0.02.tar.gz’ saved [2428923189/2428923189]\n",
            "\n"
          ]
        }
      ]
    },
    {
      "cell_type": "markdown",
      "source": [
        "## Importing libraries"
      ],
      "metadata": {
        "id": "leBZUfKFMzW1"
      }
    },
    {
      "cell_type": "code",
      "source": [
        "import numpy as np\n",
        "import matplotlib.pyplot as plt\n",
        "\n",
        "from keyword_spotting.plot import *\n",
        "from keyword_spotting.spectrogram import *\n",
        "from keyword_spotting.word_spotting import *\n",
        "from keyword_spotting.data_processing import *"
      ],
      "metadata": {
        "id": "nZk8mubXIpNr"
      },
      "execution_count": 6,
      "outputs": []
    },
    {
      "cell_type": "markdown",
      "source": [
        "## Loading Data"
      ],
      "metadata": {
        "id": "N812RUlCM92B"
      }
    },
    {
      "cell_type": "markdown",
      "source": [
        "### Processing data"
      ],
      "metadata": {
        "id": "RuYEQGeNNBer"
      }
    },
    {
      "cell_type": "markdown",
      "source": [
        "### Show data"
      ],
      "metadata": {
        "id": "jOL7ubcFUQcq"
      }
    },
    {
      "cell_type": "markdown",
      "source": [
        "### Spliting data"
      ],
      "metadata": {
        "id": "zTimnZ_ONpdk"
      }
    }
  ]
}